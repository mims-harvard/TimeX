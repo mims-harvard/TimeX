{
 "cells": [
  {
   "cell_type": "code",
   "execution_count": 1,
   "id": "861ee0d2",
   "metadata": {},
   "outputs": [],
   "source": [
    "import torch\n",
    "import numpy as np\n",
    "import matplotlib.pyplot as plt"
   ]
  },
  {
   "cell_type": "code",
   "execution_count": 2,
   "id": "c0ec5581",
   "metadata": {},
   "outputs": [],
   "source": [
    "import os\n",
    "dpath = \"/n/data1/hms/dbmi/zitnik/lab/datasets/2023-04-MITBIH\"\n",
    "X = torch.load(os.path.join(dpath, \"X.pt\"))"
   ]
  },
  {
   "cell_type": "code",
   "execution_count": 7,
   "id": "d1b40c4c",
   "metadata": {},
   "outputs": [
    {
     "name": "stdout",
     "output_type": "stream",
     "text": [
      "             0         1         2         3         4         5         6    \\\n",
      "0      -0.510876 -0.536756 -0.433236 -0.433236 -0.407356 -0.407356 -0.536756   \n",
      "1      -0.070916 -0.174436 -0.122676 -0.148556 -0.148556 -0.252076 -0.329716   \n",
      "2      -0.277956 -0.252076 -0.277956 -0.277956 -0.329716 -0.277956 -0.200316   \n",
      "3      -0.148556 -0.070916 -0.096796 -0.226196 -0.122676 -0.045036 -0.045036   \n",
      "4      -0.303836 -0.148556 -0.122676 -0.096796 -0.122676 -0.122676 -0.019156   \n",
      "...          ...       ...       ...       ...       ...       ...       ...   \n",
      "100003 -0.293947 -0.279131 -0.279131 -0.234684 -0.234684 -0.264315 -0.249499   \n",
      "100004 -0.219868 -0.234684 -0.249499 -0.249499 -0.234684 -0.293947 -0.293947   \n",
      "100005 -0.605079 -0.545815 -0.501368 -0.442105 -0.442105 -0.501368 -0.486552   \n",
      "100006 -0.427289 -0.427289 -0.456921 -0.516184 -0.501368 -0.412473 -0.293947   \n",
      "100007  2.654397  3.454451  4.298951  4.965662  5.395321  5.424952  5.024926   \n",
      "\n",
      "             7         8         9    ...       390       391       392  \\\n",
      "0      -0.510876 -0.459116 -0.433236  ... -0.174436 -0.277956 -0.226196   \n",
      "1      -0.277956 -0.200316 -0.226196  ... -0.381476 -0.407356 -0.355596   \n",
      "2      -0.252076 -0.200316 -0.200316  ... -0.459116 -0.510876 -0.510876   \n",
      "3      -0.122676 -0.122676 -0.148556  ... -1.028476 -0.562636  0.136123   \n",
      "4       0.058483  0.110243  0.084363  ... -0.277956 -0.226196 -0.252076   \n",
      "...          ...       ...       ...  ...       ...       ...       ...   \n",
      "100003 -0.249499 -0.249499 -0.264315  ...  3.202582  2.150660  1.187633   \n",
      "100004 -0.323578 -0.293947 -0.308763  ... -0.249499 -0.234684 -0.264315   \n",
      "100005 -0.560631 -0.516184 -0.486552  ... -0.249499 -0.279131 -0.293947   \n",
      "100006 -0.071710  0.239422  0.595001  ... -0.175420 -0.234684 -0.279131   \n",
      "100007  4.269320  3.276661  2.224739  ... -0.412473 -0.427289 -0.442105   \n",
      "\n",
      "             393       394       395       396       397       398       399  \n",
      "0      -0.226196 -0.252076 -0.277956 -0.252076 -0.303836 -0.252076 -0.226196  \n",
      "1      -0.381476 -0.433236 -0.381476 -0.355596 -0.355596 -0.355596 -0.355596  \n",
      "2      -0.562636 -0.510876 -0.407356 -0.433236 -0.459116 -0.459116 -0.459116  \n",
      "3       0.886643  1.921842  3.138201  4.587480  5.777959  6.476718  6.347318  \n",
      "4      -0.252076 -0.226196 -0.303836 -0.226196 -0.226196 -0.174436 -0.252076  \n",
      "...          ...       ...       ...       ...       ...       ...       ...  \n",
      "100003  0.402396 -0.205052 -0.531000 -0.664342 -0.649526 -0.575447 -0.471736  \n",
      "100004 -0.323578 -0.442105 -0.471736 -0.531000 -0.531000 -0.531000 -0.560631  \n",
      "100005 -0.323578 -0.353210 -0.323578 -0.249499 -0.205052 -0.145789 -0.116157  \n",
      "100006 -0.293947 -0.353210 -0.338394 -0.323578 -0.308763 -0.279131 -0.279131  \n",
      "100007 -0.427289 -0.397657 -0.338394 -0.308763 -0.308763 -0.338394 -0.323578  \n",
      "\n",
      "[100008 rows x 400 columns]\n"
     ]
    }
   ],
   "source": [
    "print(X)"
   ]
  },
  {
   "cell_type": "code",
   "execution_count": 13,
   "id": "d011bd6e",
   "metadata": {},
   "outputs": [
    {
     "data": {
      "image/png": "[encoded data removed]",
      "text/plain": [
       "<Figure size 432x288 with 1 Axes>"
      ]
     },
     "metadata": {
      "needs_background": "light"
     },
     "output_type": "display_data"
    }
   ],
   "source": [
    "plt.plot(np.arange(400), X.iloc[4,:])\n",
    "plt.show()"
   ]
  },
  {
   "cell_type": "code",
   "execution_count": 14,
   "id": "1e2f990f",
   "metadata": {},
   "outputs": [
    {
     "name": "stdout",
     "output_type": "stream",
     "text": [
      "       label         loc annotation\n",
      "0          N       [238]        [N]\n",
      "1          N   [39, 323]     [N, N]\n",
      "2          N   [87, 372]     [N, N]\n",
      "3          N  [104, 398]     [N, N]\n",
      "4          N       [184]        [N]\n",
      "...      ...         ...        ...\n",
      "100003     N  [146, 386]     [N, N]\n",
      "100004     N  [136, 377]     [N, N]\n",
      "100005     N       [207]        [N]\n",
      "100006     N   [16, 268]     [N, N]\n",
      "100007     N    [4, 240]     [N, N]\n",
      "\n",
      "[100008 rows x 3 columns]\n"
     ]
    }
   ],
   "source": [
    "y = torch.load(os.path.join(dpath, \"y.pt\"))\n",
    "print(y)"
   ]
  },
  {
   "cell_type": "code",
   "execution_count": 15,
   "id": "425e4e2b",
   "metadata": {},
   "outputs": [
    {
     "name": "stdout",
     "output_type": "stream",
     "text": [
      "N    67946\n",
      "U    32062\n",
      "Name: label, dtype: int64\n"
     ]
    }
   ],
   "source": [
    "print(y['label'].value_counts())"
   ]
  },
  {
   "cell_type": "code",
   "execution_count": 32,
   "id": "8b1f767f",
   "metadata": {},
   "outputs": [],
   "source": [
    "# Look at MITECG:\n",
    "epi = torch.load(\"/n/data1/hms/dbmi/zitnik/lab/users/owq978/TimeSeriesCBM/datasets/MITECG/all_MITECG.pt\")\n",
    "epi_split_inds = torch.load(\"/n/data1/hms/dbmi/zitnik/lab/users/owq978/TimeSeriesCBM/datasets/MITECG/split=1.pt\")\n"
   ]
  },
  {
   "cell_type": "code",
   "execution_count": 33,
   "id": "57d61408",
   "metadata": {},
   "outputs": [
    {
     "name": "stdout",
     "output_type": "stream",
     "text": [
      "torch.Size([360, 30000, 1])\n",
      "(tensor([11537, 12629,  2186,  ..., 29902, 29526,  1634]), tensor([12017,  5900,  2246,  ...,   941,  8947, 10790]), tensor([    3,     4,    27,  ..., 29989, 29990, 29999]))\n"
     ]
    }
   ],
   "source": [
    "Xepi, times, yepi = epi\n",
    "print(Xepi.shape)\n",
    "print(epi_split_inds)"
   ]
  },
  {
   "cell_type": "code",
   "execution_count": 45,
   "id": "26f2acc5",
   "metadata": {},
   "outputs": [
    {
     "name": "stdout",
     "output_type": "stream",
     "text": [
      "tensor([0., 0., 0., 0., 0.], dtype=torch.float64)\n"
     ]
    }
   ],
   "source": [
    "print(yepi[:5])"
   ]
  },
  {
   "cell_type": "code",
   "execution_count": 44,
   "id": "5c4b1073",
   "metadata": {},
   "outputs": [
    {
     "name": "stdout",
     "output_type": "stream",
     "text": [
      "torch.Size([360, 30000, 1])\n",
      "torch.Size([360, 30000])\n",
      "torch.Size([30000])\n"
     ]
    }
   ],
   "source": [
    "print(Xepi.shape)\n",
    "print(times.shape)\n",
    "print(yepi.shape)"
   ]
  },
  {
   "cell_type": "code",
   "execution_count": 62,
   "id": "046d86c1",
   "metadata": {},
   "outputs": [
    {
     "name": "stdout",
     "output_type": "stream",
     "text": [
      "tensor(1., dtype=torch.float64)\n"
     ]
    },
    {
     "data": {
      "image/png": "[encoded data removed]",
      "text/plain": [
       "<Figure size 432x288 with 1 Axes>"
      ]
     },
     "metadata": {
      "needs_background": "light"
     },
     "output_type": "display_data"
    }
   ],
   "source": [
    "ind = 7888\n",
    "plt.plot(np.arange(360), Xepi[:,ind,0])\n",
    "print(yepi[ind])\n",
    "plt.show()\n"
   ]
  },
  {
   "cell_type": "code",
   "execution_count": 49,
   "id": "ca54d87f",
   "metadata": {},
   "outputs": [],
   "source": [
    "# Make easier binary split of older dataset:\n",
    "from sklearn.model_selection import StratifiedKFold, train_test_split\n",
    "\n",
    "# Aggregate X, y:\n",
    "yfull_ecg = (yepi > 0).float()\n",
    "\n",
    "kf = StratifiedKFold(n_splits = 5, random_state = 12345, shuffle = True)\n",
    "rstates_each = [1234, 125, 17843, 1290, 5003]\n",
    "\n",
    "whole_splits = []\n",
    "for i, (train, test) in enumerate(kf.split(np.arange(Xepi.shape[1]), y = yfull_ecg.numpy())):\n",
    "    train_i, val_i = train_test_split(train, random_state = rstates_each[i])\n",
    "    t = (torch.tensor(train_i).int(), torch.tensor(val_i).int(), torch.tensor(test).int())\n",
    "    whole_splits.append(t)"
   ]
  },
  {
   "cell_type": "code",
   "execution_count": 51,
   "id": "55689d2a",
   "metadata": {},
   "outputs": [],
   "source": [
    "bpath = \"/n/data1/hms/dbmi/zitnik/lab/users/owq978/TimeSeriesCBM/datasets/MITECG-Simple\"\n",
    "for i in range(5):\n",
    "    torch.save(whole_splits[i], os.path.join(bpath, \"split={}.pt\".format(i)))"
   ]
  },
  {
   "cell_type": "code",
   "execution_count": 52,
   "id": "c88e003a",
   "metadata": {},
   "outputs": [],
   "source": [
    "#re-save whole tensor:\n",
    "torch.save((Xepi, times, yfull_ecg), os.path.join(bpath, 'all_data.pt'))"
   ]
  },
  {
   "cell_type": "code",
   "execution_count": 63,
   "id": "fecff494",
   "metadata": {},
   "outputs": [],
   "source": [
    "# Create concept data + saving information\n",
    "\n",
    "# Tokenize the concepts - use original labels\n",
    "concept_tokens = yepi\n",
    "\n",
    "# Define location\n",
    "exp_loc_simple = torch.zeros_like(Xepi)\n",
    "exp_loc_simple[100:250,:,:] = 1.0\n",
    "\n",
    "torch.save((concept_tokens, exp_loc_simple), os.path.join(bpath, 'exp_info.pt'))\n"
   ]
  },
  {
   "cell_type": "code",
   "execution_count": 76,
   "id": "2939c450",
   "metadata": {},
   "outputs": [
    {
     "name": "stderr",
     "output_type": "stream",
     "text": [
      "100%|████████████████████████████████████████████████████████████████████████████| 30000/30000 [00:01<00:00, 21983.04it/s]\n"
     ]
    }
   ],
   "source": [
    "# Need to make concept-overlaid maps:\n",
    "from tqdm import trange\n",
    "\n",
    "els_copy = exp_loc_simple.clone()\n",
    "\n",
    "for i in trange(yepi.shape[0]):\n",
    "    els_copy[:,i,:] *= (yepi[i] + 1)"
   ]
  },
  {
   "cell_type": "code",
   "execution_count": 78,
   "id": "f0d2be5d",
   "metadata": {},
   "outputs": [],
   "source": [
    "d = {\n",
    "    'concept_tokens': concept_tokens, \n",
    "    'exp_loc': exp_loc_simple.float(),\n",
    "    'concept_loc': els_copy.float()\n",
    "}\n",
    "torch.save(d, os.path.join(bpath, 'exp_info.pt'))"
   ]
  },
  {
   "cell_type": "code",
   "execution_count": 66,
   "id": "efc0e3cf",
   "metadata": {},
   "outputs": [
    {
     "name": "stdout",
     "output_type": "stream",
     "text": [
      "torch.Size([400, 100008, 1])\n"
     ]
    }
   ],
   "source": [
    "# Preprocess new dataset for our purposes + make splits:\n",
    "\n",
    "# 1. X reshaped:\n",
    "Xfull = torch.from_numpy(X.to_numpy()).float()\n",
    "Xfull = Xfull.transpose(0, 1).unsqueeze(-1)\n",
    "print(Xfull.shape)"
   ]
  },
  {
   "cell_type": "code",
   "execution_count": 69,
   "id": "225dcc14",
   "metadata": {},
   "outputs": [
    {
     "name": "stdout",
     "output_type": "stream",
     "text": [
      "['N' 'U']\n",
      "[0 0 0 ... 0 0 0]\n"
     ]
    }
   ],
   "source": [
    "from sklearn.preprocessing import LabelEncoder\n",
    "lenc = LabelEncoder()\n",
    "ylabels = lenc.fit_transform(y['label'])\n",
    "print(lenc.classes_)\n",
    "print(ylabels)"
   ]
  },
  {
   "cell_type": "code",
   "execution_count": 72,
   "id": "d9114521",
   "metadata": {},
   "outputs": [],
   "source": [
    "yfull = torch.from_numpy(ylabels).float()\n",
    "times_full = torch.arange(Xfull.shape[0]).unsqueeze(0).repeat(Xfull.shape[1], 1).float()"
   ]
  },
  {
   "cell_type": "code",
   "execution_count": 73,
   "id": "86b063da",
   "metadata": {},
   "outputs": [],
   "source": [
    "bpath2 = \"/n/data1/hms/dbmi/zitnik/lab/users/owq978/TimeSeriesCBM/datasets/MITECG-Hard\"\n",
    "torch.save((Xfull, times_full, yfull), os.path.join(bpath2, 'all_data.pt'))"
   ]
  },
  {
   "cell_type": "code",
   "execution_count": 74,
   "id": "8f080f51",
   "metadata": {},
   "outputs": [],
   "source": [
    "# Save reference to labels:\n",
    "torch.save(ylabels, os.path.join(bpath2, 'label_ref.pt'))"
   ]
  },
  {
   "cell_type": "code",
   "execution_count": 79,
   "id": "f93cbfa8",
   "metadata": {},
   "outputs": [
    {
     "name": "stdout",
     "output_type": "stream",
     "text": [
      "       label         loc annotation\n",
      "0          N       [238]        [N]\n",
      "1          N   [39, 323]     [N, N]\n",
      "2          N   [87, 372]     [N, N]\n",
      "3          N  [104, 398]     [N, N]\n",
      "4          N       [184]        [N]\n",
      "...      ...         ...        ...\n",
      "100003     N  [146, 386]     [N, N]\n",
      "100004     N  [136, 377]     [N, N]\n",
      "100005     N       [207]        [N]\n",
      "100006     N   [16, 268]     [N, N]\n",
      "100007     N    [4, 240]     [N, N]\n",
      "\n",
      "[100008 rows x 3 columns]\n"
     ]
    }
   ],
   "source": [
    "print(y)"
   ]
  },
  {
   "cell_type": "code",
   "execution_count": 87,
   "id": "16ea2982",
   "metadata": {},
   "outputs": [],
   "source": [
    "# Get concept refs:\n",
    "# Check unique annotations:\n",
    "import pandas as pd\n",
    "all_annots = []\n",
    "for i in range(y.shape[0]):\n",
    "    a = y['annotation'].iloc[i]\n",
    "    all_annots += list(a)"
   ]
  },
  {
   "cell_type": "code",
   "execution_count": 88,
   "id": "b614abe5",
   "metadata": {},
   "outputs": [
    {
     "name": "stdout",
     "output_type": "stream",
     "text": [
      "[0 0 0 ... 0 0 0]\n"
     ]
    }
   ],
   "source": [
    "lenc_annots = LabelEncoder()\n",
    "annots_int = lenc_annots.fit_transform(all_annots)\n",
    "print(annots_int)"
   ]
  },
  {
   "cell_type": "code",
   "execution_count": 89,
   "id": "a5c78a1e",
   "metadata": {},
   "outputs": [
    {
     "data": {
      "text/plain": [
       "array([0, 1])"
      ]
     },
     "execution_count": 89,
     "metadata": {},
     "output_type": "execute_result"
    }
   ],
   "source": [
    "np.unique(annots_int)"
   ]
  },
  {
   "cell_type": "code",
   "execution_count": 90,
   "id": "89f91f92",
   "metadata": {},
   "outputs": [
    {
     "name": "stdout",
     "output_type": "stream",
     "text": [
      "{'U', 'N'}\n"
     ]
    }
   ],
   "source": [
    "# Question: where are the more fine-grained views of annotations?"
   ]
  },
  {
   "cell_type": "code",
   "execution_count": null,
   "id": "97a2426d",
   "metadata": {},
   "outputs": [],
   "source": []
  }
 ],
 "metadata": {
  "kernelspec": {
   "display_name": "Python 3 (ipykernel)",
   "language": "python",
   "name": "python3"
  },
  "language_info": {
   "codemirror_mode": {
    "name": "ipython",
    "version": 3
   },
   "file_extension": ".py",
   "mimetype": "text/x-python",
   "name": "python",
   "nbconvert_exporter": "python",
   "pygments_lexer": "ipython3",
   "version": "3.8.12"
  }
 },
 "nbformat": 4,
 "nbformat_minor": 5
}
