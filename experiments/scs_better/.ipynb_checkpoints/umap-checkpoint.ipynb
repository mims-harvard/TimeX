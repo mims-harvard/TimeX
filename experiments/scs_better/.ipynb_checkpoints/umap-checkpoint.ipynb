{
 "cells": [
  {
   "cell_type": "code",
   "execution_count": 17,
   "id": "65dfe8af",
   "metadata": {},
   "outputs": [],
   "source": [
    "import argparse\n",
    "import torch\n",
    "import numpy as np\n",
    "import matplotlib.pyplot as plt\n",
    "from tqdm import trange\n",
    "\n",
    "from txai.models.encoders.transformer_simple import TransformerMVTS\n",
    "from txai.utils.experimental import get_explainer\n",
    "from txai.vis.vis_saliency import vis_one_saliency\n",
    "from txai.utils.data import process_Synth\n",
    "from txai.synth_data.simple_spike import SpikeTrainDataset\n",
    "\n",
    "from txai.models.modelv6_v2 import Modelv6_v2"
   ]
  },
  {
   "cell_type": "code",
   "execution_count": 18,
   "id": "a168b167",
   "metadata": {},
   "outputs": [],
   "source": [
    "#out = get_outputs('scs_better', model_path = '/n/data1/hms/dbmi/zitnik/lab/users/owq978/TimeSeriesCBM/experiments/scs_better/experiments_04-17/models/v6_exp8_gsatw=1.00_cw=2.00_split=1.pt')"
   ]
  },
  {
   "cell_type": "code",
   "execution_count": 21,
   "id": "e42390c7",
   "metadata": {},
   "outputs": [],
   "source": [
    "out, concepts = torch.load('/n/data1/hms/dbmi/zitnik/lab/users/owq978/TimeSeriesCBM/experiments/evaluation/outputs/v6_exp10_hard=False_kld=True_ccl=True_out.pt')"
   ]
  },
  {
   "cell_type": "code",
   "execution_count": 22,
   "id": "7be3bb79",
   "metadata": {},
   "outputs": [
    {
     "data": {
      "text/plain": [
       "['pred',\n",
       " 'pred_mask',\n",
       " 'mask_logits',\n",
       " 'concept_scores',\n",
       " 'ste_mask',\n",
       " 'smooth_src',\n",
       " 'p',\n",
       " 'all_z',\n",
       " 'z_mask_list',\n",
       " 'concept_selections_inds']"
      ]
     },
     "execution_count": 22,
     "metadata": {},
     "output_type": "execute_result"
    }
   ],
   "source": [
    "list(out.keys())"
   ]
  },
  {
   "cell_type": "code",
   "execution_count": 23,
   "id": "c0a30b26",
   "metadata": {},
   "outputs": [
    {
     "data": {
      "text/plain": [
       "torch.Size([750, 1, 2])"
      ]
     },
     "execution_count": 23,
     "metadata": {},
     "output_type": "execute_result"
    }
   ],
   "source": [
    "out['concept_scores'].shape"
   ]
  },
  {
   "cell_type": "code",
   "execution_count": 24,
   "id": "0f29d075",
   "metadata": {},
   "outputs": [],
   "source": [
    "Dname = 'scs_better'\n",
    "\n",
    "# Switch on loading test data:\n",
    "if Dname == 'freqshape':\n",
    "    D = process_Synth(split_no = 1, device = None, base_path = '/n/data1/hms/dbmi/zitnik/lab/users/owq978/TimeSeriesCBM/datasets/FreqShape')\n",
    "elif Dname == 'seqcombsingle':\n",
    "    D = process_Synth(split_no = 1, device = None, base_path = '/n/data1/hms/dbmi/zitnik/lab/users/owq978/TimeSeriesCBM/datasets/SeqCombSingle')\n",
    "elif Dname == 'scs_better':\n",
    "    D = process_Synth(split_no = 1, device = None, base_path = '/n/data1/hms/dbmi/zitnik/lab/users/owq978/TimeSeriesCBM/datasets/SeqCombSingleBetter')\n",
    "elif Dname == 'freqshapeud':\n",
    "    D = process_Synth(split_no = 1, device = None, base_path = '/n/data1/hms/dbmi/zitnik/lab/users/owq978/TimeSeriesCBM/datasets/FreqShapeUD')"
   ]
  },
  {
   "cell_type": "code",
   "execution_count": 25,
   "id": "87dae325",
   "metadata": {},
   "outputs": [],
   "source": [
    "X, times, y = D['test']"
   ]
  },
  {
   "cell_type": "code",
   "execution_count": 26,
   "id": "a5582e9d",
   "metadata": {},
   "outputs": [
    {
     "name": "stdout",
     "output_type": "stream",
     "text": [
      "torch.Size([750, 17, 2])\n"
     ]
    }
   ],
   "source": [
    "print(out['z_mask_list'].shape)"
   ]
  },
  {
   "cell_type": "code",
   "execution_count": 31,
   "id": "871f4fd4",
   "metadata": {},
   "outputs": [],
   "source": [
    "B, d, ne = out['z_mask_list'].shape\n",
    "zmask = out['z_mask_list'].transpose(1, 2).flatten(0, 1)"
   ]
  },
  {
   "cell_type": "code",
   "execution_count": 34,
   "id": "19c94771",
   "metadata": {},
   "outputs": [
    {
     "name": "stdout",
     "output_type": "stream",
     "text": [
      "torch.Size([1500, 17])\n"
     ]
    }
   ],
   "source": [
    "print(zmask.shape)"
   ]
  },
  {
   "cell_type": "code",
   "execution_count": 38,
   "id": "e102b222",
   "metadata": {},
   "outputs": [
    {
     "data": {
      "text/plain": [
       "torch.Size([2, 17])"
      ]
     },
     "execution_count": 38,
     "metadata": {},
     "output_type": "execute_result"
    }
   ],
   "source": [
    "concepts.shape"
   ]
  },
  {
   "cell_type": "code",
   "execution_count": 39,
   "id": "4267a79e",
   "metadata": {},
   "outputs": [],
   "source": [
    "import umap\n",
    "import matplotlib.pyplot as plt\n",
    "\n",
    "U = umap.UMAP()\n",
    "U.fit(zmask.numpy())\n",
    "zmask_umap = U.transform(zmask.numpy())\n",
    "concept_umap = U.transform(concepts.numpy())"
   ]
  },
  {
   "cell_type": "code",
   "execution_count": 40,
   "id": "1b6d3532",
   "metadata": {},
   "outputs": [
    {
     "data": {
      "image/png": "[encoded data removed]",
      "text/plain": [
       "<Figure size 432x288 with 1 Axes>"
      ]
     },
     "metadata": {
      "needs_background": "light"
     },
     "output_type": "display_data"
    }
   ],
   "source": [
    "plt.scatter(zmask_umap[:,0], zmask_umap[:,1])\n",
    "plt.scatter(concept_umap[:,0], concept_umap[:,1])\n",
    "plt.title('UMAP colored by label')\n",
    "plt.show()"
   ]
  },
  {
   "cell_type": "code",
   "execution_count": 35,
   "id": "37703530",
   "metadata": {},
   "outputs": [
    {
     "name": "stdout",
     "output_type": "stream",
     "text": [
      "tensor([[[ 1.8206,  0.8274],\n",
      "         [-1.0851, -0.3112],\n",
      "         [ 1.1924, -0.2898]],\n",
      "\n",
      "        [[-0.0446,  0.0206],\n",
      "         [ 0.9158, -0.0870],\n",
      "         [ 0.8161, -0.3085]],\n",
      "\n",
      "        [[-1.9298, -0.6887],\n",
      "         [ 0.3665, -0.4232],\n",
      "         [ 1.3925, -3.2690]],\n",
      "\n",
      "        [[ 0.7699, -0.0252],\n",
      "         [ 1.3952,  0.8778],\n",
      "         [ 0.2810,  0.4801]]])\n",
      "tensor([[ 1.8206, -1.0851,  1.1924],\n",
      "        [ 0.8274, -0.3112, -0.2898],\n",
      "        [-0.0446,  0.9158,  0.8161],\n",
      "        [ 0.0206, -0.0870, -0.3085],\n",
      "        [-1.9298,  0.3665,  1.3925],\n",
      "        [-0.6887, -0.4232, -3.2690],\n",
      "        [ 0.7699,  1.3952,  0.2810],\n",
      "        [-0.0252,  0.8778,  0.4801]])\n"
     ]
    }
   ],
   "source": [
    "a = torch.randn(4, 3, 2)\n",
    "print(a)\n",
    "print(a.transpose(1, 2).flatten(0,1))"
   ]
  },
  {
   "cell_type": "code",
   "execution_count": null,
   "id": "7d226bc5",
   "metadata": {},
   "outputs": [],
   "source": []
  }
 ],
 "metadata": {
  "kernelspec": {
   "display_name": "Python 3 (ipykernel)",
   "language": "python",
   "name": "python3"
  },
  "language_info": {
   "codemirror_mode": {
    "name": "ipython",
    "version": 3
   },
   "file_extension": ".py",
   "mimetype": "text/x-python",
   "name": "python",
   "nbconvert_exporter": "python",
   "pygments_lexer": "ipython3",
   "version": "3.8.12"
  }
 },
 "nbformat": 4,
 "nbformat_minor": 5
}
